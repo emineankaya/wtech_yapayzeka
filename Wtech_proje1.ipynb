{
  "nbformat": 4,
  "nbformat_minor": 0,
  "metadata": {
    "colab": {
      "provenance": [],
      "mount_file_id": "1LkkQ7UlNS5Aq5ba-aX1CTfLD_HNxv2Gh",
      "authorship_tag": "ABX9TyMEvqR3mlYIqztZxJBDP6J+",
      "include_colab_link": true
    },
    "kernelspec": {
      "name": "python3",
      "display_name": "Python 3"
    },
    "language_info": {
      "name": "python"
    }
  },
  "cells": [
    {
      "cell_type": "markdown",
      "metadata": {
        "id": "view-in-github",
        "colab_type": "text"
      },
      "source": [
        "<a href=\"https://colab.research.google.com/github/emineankaya/wtech_yapayzeka/blob/main/Wtech_proje1.ipynb\" target=\"_parent\"><img src=\"https://colab.research.google.com/assets/colab-badge.svg\" alt=\"Open In Colab\"/></a>"
      ]
    },
    {
      "cell_type": "markdown",
      "source": [
        "\n",
        "\n",
        "#  Gerekli kütüphanelerin yüklenmesi\n",
        "\n",
        "\n"
      ],
      "metadata": {
        "id": "mnlcqFymloqh"
      }
    },
    {
      "cell_type": "code",
      "execution_count": null,
      "metadata": {
        "colab": {
          "base_uri": "https://localhost:8080/"
        },
        "id": "86Im73b1Z-IU",
        "outputId": "8e13c64e-1721-4ea3-ddad-c76c90f370e0"
      },
      "outputs": [
        {
          "output_type": "stream",
          "name": "stdout",
          "text": [
            "Requirement already satisfied: numpy in /usr/local/lib/python3.10/dist-packages (1.25.2)\n",
            "Requirement already satisfied: pandas in /usr/local/lib/python3.10/dist-packages (1.5.3)\n",
            "Requirement already satisfied: python-dateutil>=2.8.1 in /usr/local/lib/python3.10/dist-packages (from pandas) (2.8.2)\n",
            "Requirement already satisfied: pytz>=2020.1 in /usr/local/lib/python3.10/dist-packages (from pandas) (2023.4)\n",
            "Requirement already satisfied: numpy>=1.21.0 in /usr/local/lib/python3.10/dist-packages (from pandas) (1.25.2)\n",
            "Requirement already satisfied: six>=1.5 in /usr/local/lib/python3.10/dist-packages (from python-dateutil>=2.8.1->pandas) (1.16.0)\n",
            "Requirement already satisfied: matplotlib in /usr/local/lib/python3.10/dist-packages (3.7.1)\n",
            "Requirement already satisfied: contourpy>=1.0.1 in /usr/local/lib/python3.10/dist-packages (from matplotlib) (1.2.0)\n",
            "Requirement already satisfied: cycler>=0.10 in /usr/local/lib/python3.10/dist-packages (from matplotlib) (0.12.1)\n",
            "Requirement already satisfied: fonttools>=4.22.0 in /usr/local/lib/python3.10/dist-packages (from matplotlib) (4.50.0)\n",
            "Requirement already satisfied: kiwisolver>=1.0.1 in /usr/local/lib/python3.10/dist-packages (from matplotlib) (1.4.5)\n",
            "Requirement already satisfied: numpy>=1.20 in /usr/local/lib/python3.10/dist-packages (from matplotlib) (1.25.2)\n",
            "Requirement already satisfied: packaging>=20.0 in /usr/local/lib/python3.10/dist-packages (from matplotlib) (24.0)\n",
            "Requirement already satisfied: pillow>=6.2.0 in /usr/local/lib/python3.10/dist-packages (from matplotlib) (9.4.0)\n",
            "Requirement already satisfied: pyparsing>=2.3.1 in /usr/local/lib/python3.10/dist-packages (from matplotlib) (3.1.2)\n",
            "Requirement already satisfied: python-dateutil>=2.7 in /usr/local/lib/python3.10/dist-packages (from matplotlib) (2.8.2)\n",
            "Requirement already satisfied: six>=1.5 in /usr/local/lib/python3.10/dist-packages (from python-dateutil>=2.7->matplotlib) (1.16.0)\n",
            "Requirement already satisfied: kaggle in /usr/local/lib/python3.10/dist-packages (1.5.16)\n",
            "Requirement already satisfied: six>=1.10 in /usr/local/lib/python3.10/dist-packages (from kaggle) (1.16.0)\n",
            "Requirement already satisfied: certifi in /usr/local/lib/python3.10/dist-packages (from kaggle) (2024.2.2)\n",
            "Requirement already satisfied: python-dateutil in /usr/local/lib/python3.10/dist-packages (from kaggle) (2.8.2)\n",
            "Requirement already satisfied: requests in /usr/local/lib/python3.10/dist-packages (from kaggle) (2.31.0)\n",
            "Requirement already satisfied: tqdm in /usr/local/lib/python3.10/dist-packages (from kaggle) (4.66.2)\n",
            "Requirement already satisfied: python-slugify in /usr/local/lib/python3.10/dist-packages (from kaggle) (8.0.4)\n",
            "Requirement already satisfied: urllib3 in /usr/local/lib/python3.10/dist-packages (from kaggle) (2.0.7)\n",
            "Requirement already satisfied: bleach in /usr/local/lib/python3.10/dist-packages (from kaggle) (6.1.0)\n",
            "Requirement already satisfied: webencodings in /usr/local/lib/python3.10/dist-packages (from bleach->kaggle) (0.5.1)\n",
            "Requirement already satisfied: text-unidecode>=1.3 in /usr/local/lib/python3.10/dist-packages (from python-slugify->kaggle) (1.3)\n",
            "Requirement already satisfied: charset-normalizer<4,>=2 in /usr/local/lib/python3.10/dist-packages (from requests->kaggle) (3.3.2)\n",
            "Requirement already satisfied: idna<4,>=2.5 in /usr/local/lib/python3.10/dist-packages (from requests->kaggle) (3.6)\n"
          ]
        }
      ],
      "source": [
        "! pip install numpy\n",
        "! pip install pandas\n",
        "! pip install matplotlib\n",
        "!pip install kaggle\n"
      ]
    },
    {
      "cell_type": "code",
      "source": [
        "! pip install keras\n",
        "! pip install tensorflow\n",
        "import keras\n",
        "from keras.models import Sequential\n",
        "from keras.layers import Dense"
      ],
      "metadata": {
        "colab": {
          "base_uri": "https://localhost:8080/"
        },
        "id": "xoTRsCnIhI-c",
        "outputId": "a04ba337-2cf5-497f-c9c2-1610014ee68b"
      },
      "execution_count": null,
      "outputs": [
        {
          "output_type": "stream",
          "name": "stdout",
          "text": [
            "Requirement already satisfied: keras in /usr/local/lib/python3.10/dist-packages (2.15.0)\n",
            "Requirement already satisfied: tensorflow in /usr/local/lib/python3.10/dist-packages (2.15.0)\n",
            "Requirement already satisfied: absl-py>=1.0.0 in /usr/local/lib/python3.10/dist-packages (from tensorflow) (1.4.0)\n",
            "Requirement already satisfied: astunparse>=1.6.0 in /usr/local/lib/python3.10/dist-packages (from tensorflow) (1.6.3)\n",
            "Requirement already satisfied: flatbuffers>=23.5.26 in /usr/local/lib/python3.10/dist-packages (from tensorflow) (24.3.7)\n",
            "Requirement already satisfied: gast!=0.5.0,!=0.5.1,!=0.5.2,>=0.2.1 in /usr/local/lib/python3.10/dist-packages (from tensorflow) (0.5.4)\n",
            "Requirement already satisfied: google-pasta>=0.1.1 in /usr/local/lib/python3.10/dist-packages (from tensorflow) (0.2.0)\n",
            "Requirement already satisfied: h5py>=2.9.0 in /usr/local/lib/python3.10/dist-packages (from tensorflow) (3.9.0)\n",
            "Requirement already satisfied: libclang>=13.0.0 in /usr/local/lib/python3.10/dist-packages (from tensorflow) (18.1.1)\n",
            "Requirement already satisfied: ml-dtypes~=0.2.0 in /usr/local/lib/python3.10/dist-packages (from tensorflow) (0.2.0)\n",
            "Requirement already satisfied: numpy<2.0.0,>=1.23.5 in /usr/local/lib/python3.10/dist-packages (from tensorflow) (1.25.2)\n",
            "Requirement already satisfied: opt-einsum>=2.3.2 in /usr/local/lib/python3.10/dist-packages (from tensorflow) (3.3.0)\n",
            "Requirement already satisfied: packaging in /usr/local/lib/python3.10/dist-packages (from tensorflow) (24.0)\n",
            "Requirement already satisfied: protobuf!=4.21.0,!=4.21.1,!=4.21.2,!=4.21.3,!=4.21.4,!=4.21.5,<5.0.0dev,>=3.20.3 in /usr/local/lib/python3.10/dist-packages (from tensorflow) (3.20.3)\n",
            "Requirement already satisfied: setuptools in /usr/local/lib/python3.10/dist-packages (from tensorflow) (67.7.2)\n",
            "Requirement already satisfied: six>=1.12.0 in /usr/local/lib/python3.10/dist-packages (from tensorflow) (1.16.0)\n",
            "Requirement already satisfied: termcolor>=1.1.0 in /usr/local/lib/python3.10/dist-packages (from tensorflow) (2.4.0)\n",
            "Requirement already satisfied: typing-extensions>=3.6.6 in /usr/local/lib/python3.10/dist-packages (from tensorflow) (4.10.0)\n",
            "Requirement already satisfied: wrapt<1.15,>=1.11.0 in /usr/local/lib/python3.10/dist-packages (from tensorflow) (1.14.1)\n",
            "Requirement already satisfied: tensorflow-io-gcs-filesystem>=0.23.1 in /usr/local/lib/python3.10/dist-packages (from tensorflow) (0.36.0)\n",
            "Requirement already satisfied: grpcio<2.0,>=1.24.3 in /usr/local/lib/python3.10/dist-packages (from tensorflow) (1.62.1)\n",
            "Requirement already satisfied: tensorboard<2.16,>=2.15 in /usr/local/lib/python3.10/dist-packages (from tensorflow) (2.15.2)\n",
            "Requirement already satisfied: tensorflow-estimator<2.16,>=2.15.0 in /usr/local/lib/python3.10/dist-packages (from tensorflow) (2.15.0)\n",
            "Requirement already satisfied: keras<2.16,>=2.15.0 in /usr/local/lib/python3.10/dist-packages (from tensorflow) (2.15.0)\n",
            "Requirement already satisfied: wheel<1.0,>=0.23.0 in /usr/local/lib/python3.10/dist-packages (from astunparse>=1.6.0->tensorflow) (0.43.0)\n",
            "Requirement already satisfied: google-auth<3,>=1.6.3 in /usr/local/lib/python3.10/dist-packages (from tensorboard<2.16,>=2.15->tensorflow) (2.27.0)\n",
            "Requirement already satisfied: google-auth-oauthlib<2,>=0.5 in /usr/local/lib/python3.10/dist-packages (from tensorboard<2.16,>=2.15->tensorflow) (1.2.0)\n",
            "Requirement already satisfied: markdown>=2.6.8 in /usr/local/lib/python3.10/dist-packages (from tensorboard<2.16,>=2.15->tensorflow) (3.6)\n",
            "Requirement already satisfied: requests<3,>=2.21.0 in /usr/local/lib/python3.10/dist-packages (from tensorboard<2.16,>=2.15->tensorflow) (2.31.0)\n",
            "Requirement already satisfied: tensorboard-data-server<0.8.0,>=0.7.0 in /usr/local/lib/python3.10/dist-packages (from tensorboard<2.16,>=2.15->tensorflow) (0.7.2)\n",
            "Requirement already satisfied: werkzeug>=1.0.1 in /usr/local/lib/python3.10/dist-packages (from tensorboard<2.16,>=2.15->tensorflow) (3.0.1)\n",
            "Requirement already satisfied: cachetools<6.0,>=2.0.0 in /usr/local/lib/python3.10/dist-packages (from google-auth<3,>=1.6.3->tensorboard<2.16,>=2.15->tensorflow) (5.3.3)\n",
            "Requirement already satisfied: pyasn1-modules>=0.2.1 in /usr/local/lib/python3.10/dist-packages (from google-auth<3,>=1.6.3->tensorboard<2.16,>=2.15->tensorflow) (0.3.0)\n",
            "Requirement already satisfied: rsa<5,>=3.1.4 in /usr/local/lib/python3.10/dist-packages (from google-auth<3,>=1.6.3->tensorboard<2.16,>=2.15->tensorflow) (4.9)\n",
            "Requirement already satisfied: requests-oauthlib>=0.7.0 in /usr/local/lib/python3.10/dist-packages (from google-auth-oauthlib<2,>=0.5->tensorboard<2.16,>=2.15->tensorflow) (1.4.0)\n",
            "Requirement already satisfied: charset-normalizer<4,>=2 in /usr/local/lib/python3.10/dist-packages (from requests<3,>=2.21.0->tensorboard<2.16,>=2.15->tensorflow) (3.3.2)\n",
            "Requirement already satisfied: idna<4,>=2.5 in /usr/local/lib/python3.10/dist-packages (from requests<3,>=2.21.0->tensorboard<2.16,>=2.15->tensorflow) (3.6)\n",
            "Requirement already satisfied: urllib3<3,>=1.21.1 in /usr/local/lib/python3.10/dist-packages (from requests<3,>=2.21.0->tensorboard<2.16,>=2.15->tensorflow) (2.0.7)\n",
            "Requirement already satisfied: certifi>=2017.4.17 in /usr/local/lib/python3.10/dist-packages (from requests<3,>=2.21.0->tensorboard<2.16,>=2.15->tensorflow) (2024.2.2)\n",
            "Requirement already satisfied: MarkupSafe>=2.1.1 in /usr/local/lib/python3.10/dist-packages (from werkzeug>=1.0.1->tensorboard<2.16,>=2.15->tensorflow) (2.1.5)\n",
            "Requirement already satisfied: pyasn1<0.6.0,>=0.4.6 in /usr/local/lib/python3.10/dist-packages (from pyasn1-modules>=0.2.1->google-auth<3,>=1.6.3->tensorboard<2.16,>=2.15->tensorflow) (0.5.1)\n",
            "Requirement already satisfied: oauthlib>=3.0.0 in /usr/local/lib/python3.10/dist-packages (from requests-oauthlib>=0.7.0->google-auth-oauthlib<2,>=0.5->tensorboard<2.16,>=2.15->tensorflow) (3.2.2)\n"
          ]
        }
      ]
    },
    {
      "cell_type": "code",
      "source": [
        "# import the Libraries\n",
        "import numpy as np                   # used for multidimensional array\n",
        "import pandas as pd                  # used for import the dataset\n",
        "import matplotlib.pyplot as plt      # used for ploting the graph"
      ],
      "metadata": {
        "id": "OdgRkUB2aWzT"
      },
      "execution_count": null,
      "outputs": []
    },
    {
      "cell_type": "markdown",
      "source": [
        "# Verisetinin yüklenmesi"
      ],
      "metadata": {
        "id": "wD1AsKxKlypd"
      }
    },
    {
      "cell_type": "code",
      "source": [
        "# import the datset\n",
        "dataset = pd.read_csv('/content/Churn_Modelling.csv')\n",
        "X = dataset.iloc[: , 3:13].values             # independent variable\n",
        "y = dataset.iloc[: , 13].values               # dependent variable"
      ],
      "metadata": {
        "id": "bIjM_HRtab9M"
      },
      "execution_count": null,
      "outputs": []
    },
    {
      "cell_type": "code",
      "source": [
        "print(dataset[:5])\n"
      ],
      "metadata": {
        "colab": {
          "base_uri": "https://localhost:8080/"
        },
        "id": "gpSGGeZRgGUj",
        "outputId": "3ea6418c-776c-4677-e03e-3e201c31b63e"
      },
      "execution_count": null,
      "outputs": [
        {
          "output_type": "stream",
          "name": "stdout",
          "text": [
            "   RowNumber  CustomerId   Surname  CreditScore Geography  Gender  Age  \\\n",
            "0          1    15634602  Hargrave          619    France  Female   42   \n",
            "1          2    15647311      Hill          608     Spain  Female   41   \n",
            "2          3    15619304      Onio          502    France  Female   42   \n",
            "3          4    15701354      Boni          699    France  Female   39   \n",
            "4          5    15737888  Mitchell          850     Spain  Female   43   \n",
            "\n",
            "   Tenure    Balance  NumOfProducts  HasCrCard  IsActiveMember  \\\n",
            "0       2       0.00              1          1               1   \n",
            "1       1   83807.86              1          0               1   \n",
            "2       8  159660.80              3          1               0   \n",
            "3       1       0.00              2          0               0   \n",
            "4       2  125510.82              1          1               1   \n",
            "\n",
            "   EstimatedSalary  Exited  \n",
            "0        101348.88       1  \n",
            "1        112542.58       0  \n",
            "2        113931.57       1  \n",
            "3         93826.63       0  \n",
            "4         79084.10       0  \n"
          ]
        }
      ]
    },
    {
      "cell_type": "markdown",
      "source": [
        "#One Hot encoder V Label encoder"
      ],
      "metadata": {
        "id": "Ce5dw2eVl4jW"
      }
    },
    {
      "cell_type": "code",
      "source": [
        "from sklearn.preprocessing import LabelEncoder, OneHotEncoder\n",
        "from sklearn.preprocessing import OneHotEncoder\n",
        "from sklearn.compose import ColumnTransformer\n",
        "\n",
        "# Label Encoding for categorical variables\n",
        "labelencoder_X1 = LabelEncoder()\n",
        "X[:, 1] = labelencoder_X1.fit_transform(X[:, 1])\n",
        "\n",
        "labelencoder_X2 = LabelEncoder()\n",
        "X[:, 2] = labelencoder_X2.fit_transform(X[:, 2])\n",
        "\n",
        "# OneHotEncoder for converting categorical variables to one-hot encoding\n",
        "columnTransformer = ColumnTransformer([('encoder', OneHotEncoder(), [1])], remainder='passthrough')\n",
        "X = columnTransformer.fit_transform(X)\n"
      ],
      "metadata": {
        "id": "4EXQnM0SgIXo"
      },
      "execution_count": null,
      "outputs": []
    },
    {
      "cell_type": "markdown",
      "source": [
        "# Verisetinin ayrılması\n"
      ],
      "metadata": {
        "id": "p3GgPpLmmB1C"
      }
    },
    {
      "cell_type": "code",
      "source": [
        "# split the dataset into test set and train set\n",
        "from sklearn.model_selection import train_test_split\n",
        "X_train, X_test, y_train, y_test =train_test_split(X,y, test_size= 0.2, random_state=0)\n"
      ],
      "metadata": {
        "id": "OJXOxO42hDVC"
      },
      "execution_count": null,
      "outputs": []
    },
    {
      "cell_type": "code",
      "source": [
        "# feature scaling\n",
        "from sklearn.preprocessing import StandardScaler\n",
        "sc = StandardScaler()\n",
        "X_train = sc.fit_transform(X_train)\n",
        "X_test = sc.transform(X_test)"
      ],
      "metadata": {
        "id": "ZUHs5ffPhHOu"
      },
      "execution_count": null,
      "outputs": []
    },
    {
      "cell_type": "code",
      "source": [
        "print(\"X_train shape:\", X_train.shape)\n"
      ],
      "metadata": {
        "colab": {
          "base_uri": "https://localhost:8080/"
        },
        "id": "JTTY4I87hW18",
        "outputId": "5e199d37-86d3-4ae5-cbe6-84461346ab73"
      },
      "execution_count": null,
      "outputs": [
        {
          "output_type": "stream",
          "name": "stdout",
          "text": [
            "X_train shape: (8000, 12)\n"
          ]
        }
      ]
    },
    {
      "cell_type": "markdown",
      "source": [
        "#  ANN Modelin Oluşturulmsaı"
      ],
      "metadata": {
        "id": "V-kKDAmDmWlv"
      }
    },
    {
      "source": [
        "#Model\n",
        "model = Sequential([\n",
        "    Dense(units=6, activation='relu', input_shape=(8,)),\n",
        "    Dense(units=6, activation='relu'),\n",
        "    Dense(units=1, activation='sigmoid')\n",
        "])\n",
        "\n",
        "# Create a new model\n",
        "new_model = Sequential([\n",
        "    Dense(units=6, activation='relu', input_shape=(8,)),\n",
        "    Dense(units=6, activation='relu'),\n",
        "    Dense(units=1, activation='sigmoid')\n",
        "])\n",
        "\n",
        "# Compile the model\n",
        "new_model.compile(optimizer='adam', loss='binary_crossentropy',metrics=['accuracy'])\n",
        "\n",
        "# Train the model\n",
        "new_model.fit(X_train, y_train, batch_size=10, epochs=50)"
      ],
      "cell_type": "code",
      "metadata": {
        "colab": {
          "base_uri": "https://localhost:8080/"
        },
        "id": "ySuOyWadiSxE",
        "outputId": "fb451489-a891-4ee9-9384-249c94e03ed4"
      },
      "execution_count": null,
      "outputs": [
        {
          "output_type": "stream",
          "name": "stdout",
          "text": [
            "Epoch 1/50\n",
            "800/800 [==============================] - 2s 2ms/step - loss: 0.5997 - accuracy: 0.7329\n",
            "Epoch 2/50\n",
            "800/800 [==============================] - 2s 2ms/step - loss: 0.4827 - accuracy: 0.7955\n",
            "Epoch 3/50\n",
            "800/800 [==============================] - 2s 3ms/step - loss: 0.4522 - accuracy: 0.7951\n",
            "Epoch 4/50\n",
            "800/800 [==============================] - 2s 3ms/step - loss: 0.4427 - accuracy: 0.7972\n",
            "Epoch 5/50\n",
            "800/800 [==============================] - 2s 2ms/step - loss: 0.4379 - accuracy: 0.7986\n",
            "Epoch 6/50\n",
            "800/800 [==============================] - 2s 2ms/step - loss: 0.4354 - accuracy: 0.8020\n",
            "Epoch 7/50\n",
            "800/800 [==============================] - 2s 2ms/step - loss: 0.4334 - accuracy: 0.8020\n",
            "Epoch 8/50\n",
            "800/800 [==============================] - 2s 2ms/step - loss: 0.4320 - accuracy: 0.8058\n",
            "Epoch 9/50\n",
            "800/800 [==============================] - 2s 2ms/step - loss: 0.4311 - accuracy: 0.8069\n",
            "Epoch 10/50\n",
            "800/800 [==============================] - 2s 3ms/step - loss: 0.4298 - accuracy: 0.8073\n",
            "Epoch 11/50\n",
            "800/800 [==============================] - 2s 2ms/step - loss: 0.4284 - accuracy: 0.8099\n",
            "Epoch 12/50\n",
            "800/800 [==============================] - 1s 2ms/step - loss: 0.4270 - accuracy: 0.8109\n",
            "Epoch 13/50\n",
            "800/800 [==============================] - 3s 3ms/step - loss: 0.4260 - accuracy: 0.8110\n",
            "Epoch 14/50\n",
            "800/800 [==============================] - 3s 3ms/step - loss: 0.4249 - accuracy: 0.8112\n",
            "Epoch 15/50\n",
            "800/800 [==============================] - 2s 3ms/step - loss: 0.4238 - accuracy: 0.8120\n",
            "Epoch 16/50\n",
            "800/800 [==============================] - 4s 5ms/step - loss: 0.4233 - accuracy: 0.8126\n",
            "Epoch 17/50\n",
            "800/800 [==============================] - 2s 3ms/step - loss: 0.4223 - accuracy: 0.8151\n",
            "Epoch 18/50\n",
            "800/800 [==============================] - 2s 2ms/step - loss: 0.4217 - accuracy: 0.8138\n",
            "Epoch 19/50\n",
            "800/800 [==============================] - 1s 2ms/step - loss: 0.4213 - accuracy: 0.8133\n",
            "Epoch 20/50\n",
            "800/800 [==============================] - 2s 2ms/step - loss: 0.4209 - accuracy: 0.8152\n",
            "Epoch 21/50\n",
            "800/800 [==============================] - 2s 2ms/step - loss: 0.4201 - accuracy: 0.8156\n",
            "Epoch 22/50\n",
            "800/800 [==============================] - 2s 2ms/step - loss: 0.4202 - accuracy: 0.8133\n",
            "Epoch 23/50\n",
            "800/800 [==============================] - 2s 3ms/step - loss: 0.4194 - accuracy: 0.8156\n",
            "Epoch 24/50\n",
            "800/800 [==============================] - 2s 3ms/step - loss: 0.4195 - accuracy: 0.8156\n",
            "Epoch 25/50\n",
            "800/800 [==============================] - 2s 2ms/step - loss: 0.4194 - accuracy: 0.8150\n",
            "Epoch 26/50\n",
            "800/800 [==============================] - 2s 2ms/step - loss: 0.4184 - accuracy: 0.8183\n",
            "Epoch 27/50\n",
            "800/800 [==============================] - 1s 2ms/step - loss: 0.4191 - accuracy: 0.8150\n",
            "Epoch 28/50\n",
            "800/800 [==============================] - 2s 2ms/step - loss: 0.4187 - accuracy: 0.8152\n",
            "Epoch 29/50\n",
            "800/800 [==============================] - 1s 2ms/step - loss: 0.4182 - accuracy: 0.8158\n",
            "Epoch 30/50\n",
            "800/800 [==============================] - 1s 2ms/step - loss: 0.4179 - accuracy: 0.8177\n",
            "Epoch 31/50\n",
            "800/800 [==============================] - 2s 2ms/step - loss: 0.4175 - accuracy: 0.8125\n",
            "Epoch 32/50\n",
            "800/800 [==============================] - 2s 3ms/step - loss: 0.4174 - accuracy: 0.8180\n",
            "Epoch 33/50\n",
            "800/800 [==============================] - 2s 2ms/step - loss: 0.4176 - accuracy: 0.8169\n",
            "Epoch 34/50\n",
            "800/800 [==============================] - 1s 2ms/step - loss: 0.4169 - accuracy: 0.8184\n",
            "Epoch 35/50\n",
            "800/800 [==============================] - 2s 2ms/step - loss: 0.4171 - accuracy: 0.8170\n",
            "Epoch 36/50\n",
            "800/800 [==============================] - 1s 2ms/step - loss: 0.4170 - accuracy: 0.8177\n",
            "Epoch 37/50\n",
            "800/800 [==============================] - 2s 2ms/step - loss: 0.4169 - accuracy: 0.8174\n",
            "Epoch 38/50\n",
            "800/800 [==============================] - 2s 2ms/step - loss: 0.4165 - accuracy: 0.8188\n",
            "Epoch 39/50\n",
            "800/800 [==============================] - 2s 2ms/step - loss: 0.4162 - accuracy: 0.8169\n",
            "Epoch 40/50\n",
            "800/800 [==============================] - 2s 3ms/step - loss: 0.4166 - accuracy: 0.8164\n",
            "Epoch 41/50\n",
            "800/800 [==============================] - 2s 2ms/step - loss: 0.4162 - accuracy: 0.8165\n",
            "Epoch 42/50\n",
            "800/800 [==============================] - 1s 2ms/step - loss: 0.4158 - accuracy: 0.8175\n",
            "Epoch 43/50\n",
            "800/800 [==============================] - 2s 2ms/step - loss: 0.4164 - accuracy: 0.8150\n",
            "Epoch 44/50\n",
            "800/800 [==============================] - 1s 2ms/step - loss: 0.4163 - accuracy: 0.8150\n",
            "Epoch 45/50\n",
            "800/800 [==============================] - 1s 2ms/step - loss: 0.4162 - accuracy: 0.8169\n",
            "Epoch 46/50\n",
            "800/800 [==============================] - 1s 2ms/step - loss: 0.4158 - accuracy: 0.8161\n",
            "Epoch 47/50\n",
            "800/800 [==============================] - 1s 2ms/step - loss: 0.4159 - accuracy: 0.8154\n",
            "Epoch 48/50\n",
            "800/800 [==============================] - 2s 3ms/step - loss: 0.4158 - accuracy: 0.8175\n",
            "Epoch 49/50\n",
            "800/800 [==============================] - 2s 3ms/step - loss: 0.4159 - accuracy: 0.8179\n",
            "Epoch 50/50\n",
            "800/800 [==============================] - 1s 2ms/step - loss: 0.4155 - accuracy: 0.8170\n"
          ]
        },
        {
          "output_type": "execute_result",
          "data": {
            "text/plain": [
              "<keras.src.callbacks.History at 0x7d5ab5516230>"
            ]
          },
          "metadata": {},
          "execution_count": 61
        }
      ]
    }
  ]
}